{
 "cells": [
  {
   "cell_type": "markdown",
   "metadata": {},
   "source": [
    "I'm running a Linear Regression in Python on our real estate prices data of the Boston suburbs."
   ]
  },
  {
   "cell_type": "code",
   "execution_count": 2,
   "metadata": {},
   "outputs": [],
   "source": [
    "import numpy as np\n",
    "import pandas as pd\n",
    "import matplotlib.pyplot as plt\n",
    "from sklearn import linear_model\n",
    "import statsmodels.api as sm"
   ]
  },
  {
   "cell_type": "markdown",
   "metadata": {},
   "source": [
    "Loading the pre-made data from our csv file."
   ]
  },
  {
   "cell_type": "code",
   "execution_count": 3,
   "metadata": {},
   "outputs": [
    {
     "data": {
      "text/html": [
       "<div>\n",
       "<style scoped>\n",
       "    .dataframe tbody tr th:only-of-type {\n",
       "        vertical-align: middle;\n",
       "    }\n",
       "\n",
       "    .dataframe tbody tr th {\n",
       "        vertical-align: top;\n",
       "    }\n",
       "\n",
       "    .dataframe thead th {\n",
       "        text-align: right;\n",
       "    }\n",
       "</style>\n",
       "<table border=\"1\" class=\"dataframe\">\n",
       "  <thead>\n",
       "    <tr style=\"text-align: right;\">\n",
       "      <th></th>\n",
       "      <th>CRIM</th>\n",
       "      <th>ZN</th>\n",
       "      <th>INDUS</th>\n",
       "      <th>CHAS</th>\n",
       "      <th>NOX</th>\n",
       "      <th>RM</th>\n",
       "      <th>AGE</th>\n",
       "      <th>DIS</th>\n",
       "      <th>RAD</th>\n",
       "      <th>TAX</th>\n",
       "      <th>PTRATIO</th>\n",
       "      <th>B</th>\n",
       "      <th>LSTAT</th>\n",
       "      <th>MEDV</th>\n",
       "    </tr>\n",
       "  </thead>\n",
       "  <tbody>\n",
       "    <tr>\n",
       "      <th>0</th>\n",
       "      <td>0.00632</td>\n",
       "      <td>18.0</td>\n",
       "      <td>2.31</td>\n",
       "      <td>0</td>\n",
       "      <td>0.538</td>\n",
       "      <td>6.575</td>\n",
       "      <td>65.2</td>\n",
       "      <td>4.0900</td>\n",
       "      <td>1</td>\n",
       "      <td>296</td>\n",
       "      <td>15.3</td>\n",
       "      <td>396.90</td>\n",
       "      <td>4.98</td>\n",
       "      <td>24.0</td>\n",
       "    </tr>\n",
       "    <tr>\n",
       "      <th>1</th>\n",
       "      <td>0.02731</td>\n",
       "      <td>0.0</td>\n",
       "      <td>7.07</td>\n",
       "      <td>0</td>\n",
       "      <td>0.469</td>\n",
       "      <td>6.421</td>\n",
       "      <td>78.9</td>\n",
       "      <td>4.9671</td>\n",
       "      <td>2</td>\n",
       "      <td>242</td>\n",
       "      <td>17.8</td>\n",
       "      <td>396.90</td>\n",
       "      <td>9.14</td>\n",
       "      <td>21.6</td>\n",
       "    </tr>\n",
       "    <tr>\n",
       "      <th>2</th>\n",
       "      <td>0.02729</td>\n",
       "      <td>0.0</td>\n",
       "      <td>7.07</td>\n",
       "      <td>0</td>\n",
       "      <td>0.469</td>\n",
       "      <td>7.185</td>\n",
       "      <td>61.1</td>\n",
       "      <td>4.9671</td>\n",
       "      <td>2</td>\n",
       "      <td>242</td>\n",
       "      <td>17.8</td>\n",
       "      <td>392.83</td>\n",
       "      <td>4.03</td>\n",
       "      <td>34.7</td>\n",
       "    </tr>\n",
       "    <tr>\n",
       "      <th>3</th>\n",
       "      <td>0.03237</td>\n",
       "      <td>0.0</td>\n",
       "      <td>2.18</td>\n",
       "      <td>0</td>\n",
       "      <td>0.458</td>\n",
       "      <td>6.998</td>\n",
       "      <td>45.8</td>\n",
       "      <td>6.0622</td>\n",
       "      <td>3</td>\n",
       "      <td>222</td>\n",
       "      <td>18.7</td>\n",
       "      <td>394.63</td>\n",
       "      <td>2.94</td>\n",
       "      <td>33.4</td>\n",
       "    </tr>\n",
       "    <tr>\n",
       "      <th>4</th>\n",
       "      <td>0.06905</td>\n",
       "      <td>0.0</td>\n",
       "      <td>2.18</td>\n",
       "      <td>0</td>\n",
       "      <td>0.458</td>\n",
       "      <td>7.147</td>\n",
       "      <td>54.2</td>\n",
       "      <td>6.0622</td>\n",
       "      <td>3</td>\n",
       "      <td>222</td>\n",
       "      <td>18.7</td>\n",
       "      <td>396.90</td>\n",
       "      <td>5.33</td>\n",
       "      <td>36.2</td>\n",
       "    </tr>\n",
       "  </tbody>\n",
       "</table>\n",
       "</div>"
      ],
      "text/plain": [
       "      CRIM    ZN  INDUS  CHAS    NOX     RM   AGE     DIS  RAD  TAX  PTRATIO  \\\n",
       "0  0.00632  18.0   2.31     0  0.538  6.575  65.2  4.0900    1  296     15.3   \n",
       "1  0.02731   0.0   7.07     0  0.469  6.421  78.9  4.9671    2  242     17.8   \n",
       "2  0.02729   0.0   7.07     0  0.469  7.185  61.1  4.9671    2  242     17.8   \n",
       "3  0.03237   0.0   2.18     0  0.458  6.998  45.8  6.0622    3  222     18.7   \n",
       "4  0.06905   0.0   2.18     0  0.458  7.147  54.2  6.0622    3  222     18.7   \n",
       "\n",
       "        B  LSTAT  MEDV  \n",
       "0  396.90   4.98  24.0  \n",
       "1  396.90   9.14  21.6  \n",
       "2  392.83   4.03  34.7  \n",
       "3  394.63   2.94  33.4  \n",
       "4  396.90   5.33  36.2  "
      ]
     },
     "execution_count": 3,
     "metadata": {},
     "output_type": "execute_result"
    }
   ],
   "source": [
    "real_estate_data = pd.read_csv(\"/Users/admin/Documents/Projects/real-estate-prices/data.csv\")\n",
    "real_estate_data.head()"
   ]
  },
  {
   "cell_type": "markdown",
   "metadata": {},
   "source": [
    "Looking at all the column names to help hypothesize which two variables might be related."
   ]
  },
  {
   "cell_type": "code",
   "execution_count": 4,
   "metadata": {},
   "outputs": [
    {
     "data": {
      "text/plain": [
       "Index(['CRIM', 'ZN', 'INDUS', 'CHAS', 'NOX', 'RM', 'AGE', 'DIS', 'RAD', 'TAX',\n",
       "       'PTRATIO', 'B', 'LSTAT', 'MEDV'],\n",
       "      dtype='object')"
      ]
     },
     "execution_count": 4,
     "metadata": {},
     "output_type": "execute_result"
    }
   ],
   "source": [
    "real_estate_data.columns"
   ]
  },
  {
   "cell_type": "markdown",
   "metadata": {},
   "source": [
    "I'm expecting that proportion of non-retail business acres per town (INDUS) goes down as proportion of presidential land zoned for lots over 25,000 sq.ft. (ZN) goes up?\n",
    "\n",
    "I'm first making a scatterplot of these two columns to explore the data."
   ]
  },
  {
   "cell_type": "code",
   "execution_count": 5,
   "metadata": {},
   "outputs": [
    {
     "data": {
      "image/png": "[encoded data removed]",
      "text/plain": [
       "<Figure size 640x480 with 1 Axes>"
      ]
     },
     "metadata": {},
     "output_type": "display_data"
    }
   ],
   "source": [
    "plt.scatter(x = real_estate_data['ZN'], y = real_estate_data['INDUS'])\n",
    "plt.title(\"Proportion of Presidential Land Zoned for Lots Over 25,000 sq.ft vs Proportion of Non-Retail Business Acres Per Town\")\n",
    "plt.xlabel(\"Proportion of Presidential Land Zoned for Lots Over 25,000 sq.ft\")\n",
    "plt.ylabel(\"Proportion of Non-Retail Business Acres Per Town\")\n",
    "\n",
    "# m is the slope and b is intercept of linear regression line\n",
    "x = real_estate_data['ZN']\n",
    "y = real_estate_data['INDUS']\n",
    "m, b = np.polyfit(x, y, 1)\n",
    "\n",
    "# x is still x, but y = mx + b\n",
    "plt.plot(x, m * x + b, 'r')\n",
    "\n",
    "plt.show()"
   ]
  },
  {
   "cell_type": "markdown",
   "metadata": {},
   "source": [
    "It does seem like the best way to characterize this relationship would indeed be a linear relationship.\n",
    "\n",
    "Let's test a simple, negative, linear reltionship.\n",
    "\n",
    "Hypohtesis Testing\n",
    "\n",
    "Ho: ZN & INDUS have NO relationship.\n",
    "\n",
    "Ha: ZN & INDUS have a negative, linear relationship.\n",
    "\n",
    "Ho: m = 0\n",
    "\n",
    "Ha: m < 0"
   ]
  },
  {
   "cell_type": "code",
   "execution_count": 6,
   "metadata": {},
   "outputs": [
    {
     "name": "stdout",
     "output_type": "stream",
     "text": [
      "Coefficient of proportion of presidential land zoned for lots over 25,000 sq.ft:  [-0.15696115]\n",
      "Intercept in our model:  12.917292809638054\n",
      "R^2 Score:  0.2852689046515726\n"
     ]
    }
   ],
   "source": [
    "# Only using 'ZN' column, so we need to reshape to fit scikit's fit() function\n",
    "regr_X = np.array(real_estate_data['ZN']).reshape(-1, 1)\n",
    "# Response is 'INDUS'\n",
    "regr_y = real_estate_data['INDUS']\n",
    "\n",
    "# Building a linear regression model using scikit's sklearn\n",
    "regr = linear_model.LinearRegression()\n",
    "\n",
    "# Calculating the parameters of our regression model using the fit() method\n",
    "lin_model = regr.fit(X = regr_X, y = regr_y)\n",
    "\n",
    "# Coefficient of proportion of presidential land zoned for lots over 25,000 sq.ft in our model\n",
    "print(\"Coefficient of proportion of presidential land zoned for lots over 25,000 sq.ft: \", lin_model.coef_)\n",
    "\n",
    "# Intercept Value in our model\n",
    "print(\"Intercept in our model: \", lin_model.intercept_)\n",
    "\n",
    "# Coefficient of Determination score\n",
    "print(\"R^2 Score: \", regr.score(X = regr_X, y = regr_y))"
   ]
  },
  {
   "cell_type": "markdown",
   "metadata": {},
   "source": [
    "INDUS = (-0.16)ZN + 12.92"
   ]
  },
  {
   "cell_type": "code",
   "execution_count": 7,
   "metadata": {},
   "outputs": [
    {
     "name": "stdout",
     "output_type": "stream",
     "text": [
      "                            OLS Regression Results                            \n",
      "==============================================================================\n",
      "Dep. Variable:                  INDUS   R-squared:                       0.285\n",
      "Model:                            OLS   Adj. R-squared:                  0.284\n",
      "Method:                 Least Squares   F-statistic:                     203.2\n",
      "Date:                Sat, 20 Jan 2024   Prob (F-statistic):           4.99e-39\n",
      "Time:                        11:48:51   Log-Likelihood:                -1620.4\n",
      "No. Observations:                 511   AIC:                             3245.\n",
      "Df Residuals:                     509   BIC:                             3253.\n",
      "Df Model:                           1                                         \n",
      "Covariance Type:            nonrobust                                         \n",
      "==============================================================================\n",
      "                 coef    std err          t      P>|t|      [0.025      0.975]\n",
      "------------------------------------------------------------------------------\n",
      "Constant      12.9173      0.284     45.472      0.000      12.359      13.475\n",
      "ZN            -0.1570      0.011    -14.253      0.000      -0.179      -0.135\n",
      "==============================================================================\n",
      "Omnibus:                       67.251   Durbin-Watson:                   0.198\n",
      "Prob(Omnibus):                  0.000   Jarque-Bera (JB):               18.569\n",
      "Skew:                           0.105   Prob(JB):                     9.29e-05\n",
      "Kurtosis:                       2.090   Cond. No.                         28.7\n",
      "==============================================================================\n",
      "\n",
      "Notes:\n",
      "[1] Standard Errors assume that the covariance matrix of the errors is correctly specified.\n"
     ]
    }
   ],
   "source": [
    "# Need to add a column of 1s to create a constant term\n",
    "# statsmodels.api does not do it for us like sklearn does\n",
    "summary_X = sm.add_constant(regr_X)\n",
    "\n",
    "# Make into dataframes to make sure variable names are shown in output\n",
    "summary_X = pd.DataFrame(summary_X).reset_index(drop=True)\n",
    "summary_X.columns = ['Constant', 'ZN']\n",
    "summary_y = pd.DataFrame(regr_y).reset_index(drop=True)\n",
    "\n",
    "summary_est = sm.OLS(summary_y, summary_X)\n",
    "\n",
    "print(summary_est.fit().summary())"
   ]
  },
  {
   "cell_type": "markdown",
   "metadata": {},
   "source": [
    "t-critical = 1.960, our model's |t-value| = 14.253\n",
    "\n",
    "Since our t-value was >t*, we have statistically-significant evidence to suggest at a 95% confidence level that Proportion of Residential Land Zoned for Lots over 25,000 sq.ft. and Proportion of Non-Retail Business Acres Per Town."
   ]
  }
 ],
 "metadata": {
  "kernelspec": {
   "display_name": "Python 3",
   "language": "python",
   "name": "python3"
  },
  "language_info": {
   "codemirror_mode": {
    "name": "ipython",
    "version": 3
   },
   "file_extension": ".py",
   "mimetype": "text/x-python",
   "name": "python",
   "nbconvert_exporter": "python",
   "pygments_lexer": "ipython3",
   "version": "3.11.6"
  }
 },
 "nbformat": 4,
 "nbformat_minor": 2
}
